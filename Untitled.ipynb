{
 "cells": [
  {
   "cell_type": "code",
   "execution_count": 1,
   "id": "790abd3e",
   "metadata": {},
   "outputs": [],
   "source": [
    "import pandas as pd\n"
   ]
  },
  {
   "cell_type": "code",
   "execution_count": 7,
   "id": "1c15fe13",
   "metadata": {},
   "outputs": [
    {
     "data": {
      "text/html": [
       "<div>\n",
       "<style scoped>\n",
       "    .dataframe tbody tr th:only-of-type {\n",
       "        vertical-align: middle;\n",
       "    }\n",
       "\n",
       "    .dataframe tbody tr th {\n",
       "        vertical-align: top;\n",
       "    }\n",
       "\n",
       "    .dataframe thead th {\n",
       "        text-align: right;\n",
       "    }\n",
       "</style>\n",
       "<table border=\"1\" class=\"dataframe\">\n",
       "  <thead>\n",
       "    <tr style=\"text-align: right;\">\n",
       "      <th></th>\n",
       "      <th>id</th>\n",
       "      <th>keyword</th>\n",
       "      <th>location</th>\n",
       "      <th>text</th>\n",
       "      <th>target</th>\n",
       "    </tr>\n",
       "  </thead>\n",
       "  <tbody>\n",
       "    <tr>\n",
       "      <th>2333</th>\n",
       "      <td>3357</td>\n",
       "      <td>demolition</td>\n",
       "      <td>Lisbon, Portugal</td>\n",
       "      <td>Draw Day Demolition Daily football selection s...</td>\n",
       "      <td>0</td>\n",
       "    </tr>\n",
       "    <tr>\n",
       "      <th>1491</th>\n",
       "      <td>2149</td>\n",
       "      <td>catastrophe</td>\n",
       "      <td>Portugal</td>\n",
       "      <td>Alaska's #Wolves face catastrophe Denali Wolve...</td>\n",
       "      <td>0</td>\n",
       "    </tr>\n",
       "    <tr>\n",
       "      <th>5318</th>\n",
       "      <td>7593</td>\n",
       "      <td>outbreak</td>\n",
       "      <td>New York, NY</td>\n",
       "      <td>An outbreak of Legionnaires' disease in New Yo...</td>\n",
       "      <td>1</td>\n",
       "    </tr>\n",
       "    <tr>\n",
       "      <th>2252</th>\n",
       "      <td>3225</td>\n",
       "      <td>deluged</td>\n",
       "      <td>Clearwater, FL</td>\n",
       "      <td>@LisaToddSutton The reason I bring this up  bc...</td>\n",
       "      <td>0</td>\n",
       "    </tr>\n",
       "    <tr>\n",
       "      <th>6653</th>\n",
       "      <td>9533</td>\n",
       "      <td>terrorist</td>\n",
       "      <td>????? ???? ????</td>\n",
       "      <td>#UdhampurAgain 2 terrorist shot dead.. #Udhampur</td>\n",
       "      <td>1</td>\n",
       "    </tr>\n",
       "  </tbody>\n",
       "</table>\n",
       "</div>"
      ],
      "text/plain": [
       "        id      keyword          location  \\\n",
       "2333  3357   demolition  Lisbon, Portugal   \n",
       "1491  2149  catastrophe          Portugal   \n",
       "5318  7593     outbreak      New York, NY   \n",
       "2252  3225      deluged    Clearwater, FL   \n",
       "6653  9533    terrorist   ????? ???? ????   \n",
       "\n",
       "                                                   text  target  \n",
       "2333  Draw Day Demolition Daily football selection s...       0  \n",
       "1491  Alaska's #Wolves face catastrophe Denali Wolve...       0  \n",
       "5318  An outbreak of Legionnaires' disease in New Yo...       1  \n",
       "2252  @LisaToddSutton The reason I bring this up  bc...       0  \n",
       "6653   #UdhampurAgain 2 terrorist shot dead.. #Udhampur       1  "
      ]
     },
     "execution_count": 7,
     "metadata": {},
     "output_type": "execute_result"
    }
   ],
   "source": [
    "df_train = pd.read_csv('./train.csv')\n",
    "df_test = pd.read_csv('./test.csv')\n",
    "df_train.sample(5)"
   ]
  },
  {
   "cell_type": "code",
   "execution_count": 11,
   "id": "582b9cb8",
   "metadata": {},
   "outputs": [
    {
     "data": {
      "text/plain": [
       "Text(0.5, 1.0, 'Real disaster or not distribution')"
      ]
     },
     "execution_count": 11,
     "metadata": {},
     "output_type": "execute_result"
    },
    {
     "data": {
      "image/png": "[encoded data removed]",
      "text/plain": [
       "<Figure size 576x288 with 1 Axes>"
      ]
     },
     "metadata": {
      "needs_background": "light"
     },
     "output_type": "display_data"
    }
   ],
   "source": [
    "import matplotlib.pyplot as plt\n",
    "target_count = df_train.target.value_counts()\n",
    "plt.figure(figsize=(8,4))\n",
    "plt.bar(['not a disaster','disaster'], target_count.values)\n",
    "plt.title(\"Real disaster or not distribution\")"
   ]
  }
 ],
 "metadata": {
  "kernelspec": {
   "display_name": "Python 3 (ipykernel)",
   "language": "python",
   "name": "python3"
  },
  "language_info": {
   "codemirror_mode": {
    "name": "ipython",
    "version": 3
   },
   "file_extension": ".py",
   "mimetype": "text/x-python",
   "name": "python",
   "nbconvert_exporter": "python",
   "pygments_lexer": "ipython3",
   "version": "3.8.10"
  }
 },
 "nbformat": 4,
 "nbformat_minor": 5
}
